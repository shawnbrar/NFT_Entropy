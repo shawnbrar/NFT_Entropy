{
 "cells": [
  {
   "cell_type": "markdown",
   "id": "e460265a",
   "metadata": {
    "papermill": {
     "duration": 0.015506,
     "end_time": "2022-09-19T16:18:03.266933",
     "exception": false,
     "start_time": "2022-09-19T16:18:03.251427",
     "status": "completed"
    },
    "tags": []
   },
   "source": [
    "# Ethereum NFT Analysis: quicker Entropy Analysis\n",
    "\n",
    "In this notebook, I was concerned with the fact that calculating entropy for the NFT collections was taking too much time. \n",
    "\n",
    "Hence the **objective** here is to find a way of calculating the same entropies that takes less time.\n",
    "\n",
    "The actual notebook of the author is [here](https://www.kaggle.com/code/simiotic/ethereum-nft-analysis).\n",
    "\n",
    "The actual data author is [here](https://www.kaggle.com/datasets/simiotic/ethereum-nfts).\n",
    "\n",
    "Link to my kaggle notebook is [here](https://www.kaggle.com/code/sbrar0804/ethereum-nft-analysis-quicker-entropy-calc/notebook)."
   ]
  },
  {
   "cell_type": "code",
   "execution_count": 1,
   "id": "de0f6389",
   "metadata": {
    "collapsed": true,
    "execution": {
     "iopub.execute_input": "2022-09-19T16:18:03.296822Z",
     "iopub.status.busy": "2022-09-19T16:18:03.295450Z",
     "iopub.status.idle": "2022-09-19T16:18:23.772530Z",
     "shell.execute_reply": "2022-09-19T16:18:23.771567Z",
     "shell.execute_reply.started": "2022-09-19T16:08:13.755803Z"
    },
    "jupyter": {
     "outputs_hidden": true
    },
    "papermill": {
     "duration": 20.492875,
     "end_time": "2022-09-19T16:18:23.772742",
     "exception": false,
     "start_time": "2022-09-19T16:18:03.279867",
     "status": "completed"
    },
    "tags": []
   },
   "outputs": [
    {
     "name": "stdout",
     "output_type": "stream",
     "text": [
      "Collecting nfts\r\n",
      "  Downloading nfts-0.0.2-py3-none-any.whl (16 kB)\r\n",
      "Requirement already satisfied: requests in /opt/conda/lib/python3.7/site-packages (from nfts) (2.25.1)\r\n",
      "Requirement already satisfied: pandas in /opt/conda/lib/python3.7/site-packages (from nfts) (1.3.2)\r\n",
      "Requirement already satisfied: tqdm in /opt/conda/lib/python3.7/site-packages (from nfts) (4.62.1)\r\n",
      "Collecting web3\r\n",
      "  Downloading web3-5.30.0-py3-none-any.whl (501 kB)\r\n",
      "\u001b[K     |████████████████████████████████| 501 kB 2.1 MB/s \r\n",
      "\u001b[?25hCollecting moonstreamdb\r\n",
      "  Downloading moonstreamdb-0.3.2-py3-none-any.whl (7.4 kB)\r\n",
      "Collecting humbug\r\n",
      "  Downloading humbug-0.2.7-py3-none-any.whl (11 kB)\r\n",
      "Collecting psycopg2-binary\r\n",
      "  Downloading psycopg2_binary-2.9.3-cp37-cp37m-manylinux_2_17_x86_64.manylinux2014_x86_64.whl (3.0 MB)\r\n",
      "\u001b[K     |████████████████████████████████| 3.0 MB 59.2 MB/s \r\n",
      "\u001b[?25hRequirement already satisfied: alembic in /opt/conda/lib/python3.7/site-packages (from moonstreamdb->nfts) (1.7.3)\r\n",
      "Requirement already satisfied: sqlalchemy in /opt/conda/lib/python3.7/site-packages (from moonstreamdb->nfts) (1.4.22)\r\n",
      "Requirement already satisfied: importlib-metadata in /opt/conda/lib/python3.7/site-packages (from alembic->moonstreamdb->nfts) (3.4.0)\r\n",
      "Requirement already satisfied: Mako in /opt/conda/lib/python3.7/site-packages (from alembic->moonstreamdb->nfts) (1.1.5)\r\n",
      "Requirement already satisfied: importlib-resources in /opt/conda/lib/python3.7/site-packages (from alembic->moonstreamdb->nfts) (5.2.2)\r\n",
      "Requirement already satisfied: greenlet!=0.4.17 in /opt/conda/lib/python3.7/site-packages (from sqlalchemy->moonstreamdb->nfts) (1.1.1)\r\n",
      "Requirement already satisfied: zipp>=0.5 in /opt/conda/lib/python3.7/site-packages (from importlib-metadata->alembic->moonstreamdb->nfts) (3.5.0)\r\n",
      "Requirement already satisfied: typing-extensions>=3.6.4 in /opt/conda/lib/python3.7/site-packages (from importlib-metadata->alembic->moonstreamdb->nfts) (3.7.4.3)\r\n",
      "Requirement already satisfied: MarkupSafe>=0.9.2 in /opt/conda/lib/python3.7/site-packages (from Mako->alembic->moonstreamdb->nfts) (2.0.1)\r\n",
      "Requirement already satisfied: numpy>=1.17.3 in /opt/conda/lib/python3.7/site-packages (from pandas->nfts) (1.19.5)\r\n",
      "Requirement already satisfied: python-dateutil>=2.7.3 in /opt/conda/lib/python3.7/site-packages (from pandas->nfts) (2.8.0)\r\n",
      "Requirement already satisfied: pytz>=2017.3 in /opt/conda/lib/python3.7/site-packages (from pandas->nfts) (2021.1)\r\n",
      "Requirement already satisfied: six>=1.5 in /opt/conda/lib/python3.7/site-packages (from python-dateutil>=2.7.3->pandas->nfts) (1.15.0)\r\n",
      "Requirement already satisfied: idna<3,>=2.5 in /opt/conda/lib/python3.7/site-packages (from requests->nfts) (2.10)\r\n",
      "Requirement already satisfied: chardet<5,>=3.0.2 in /opt/conda/lib/python3.7/site-packages (from requests->nfts) (4.0.0)\r\n",
      "Requirement already satisfied: urllib3<1.27,>=1.21.1 in /opt/conda/lib/python3.7/site-packages (from requests->nfts) (1.26.6)\r\n",
      "Requirement already satisfied: certifi>=2017.4.17 in /opt/conda/lib/python3.7/site-packages (from requests->nfts) (2021.5.30)\r\n",
      "Collecting eth-account<0.6.0,>=0.5.7\r\n",
      "  Downloading eth_account-0.5.9-py3-none-any.whl (101 kB)\r\n",
      "\u001b[K     |████████████████████████████████| 101 kB 7.4 MB/s \r\n",
      "\u001b[?25hRequirement already satisfied: protobuf<4,>=3.10.0 in /opt/conda/lib/python3.7/site-packages (from web3->nfts) (3.18.0)\r\n",
      "Requirement already satisfied: aiohttp<4,>=3.7.4.post0 in /opt/conda/lib/python3.7/site-packages (from web3->nfts) (3.7.4.post0)\r\n",
      "Collecting hexbytes<1.0.0,>=0.1.0\r\n",
      "  Downloading hexbytes-0.3.0-py3-none-any.whl (6.4 kB)\r\n",
      "Requirement already satisfied: jsonschema<5,>=3.2.0 in /opt/conda/lib/python3.7/site-packages (from web3->nfts) (3.2.0)\r\n",
      "Collecting eth-rlp<0.3\r\n",
      "  Downloading eth_rlp-0.2.1-py3-none-any.whl (5.0 kB)\r\n",
      "Collecting eth-hash[pycryptodome]<1.0.0,>=0.2.0\r\n",
      "  Downloading eth_hash-0.5.0-py3-none-any.whl (8.9 kB)\r\n",
      "Collecting eth-typing<3.0.0,>=2.0.0\r\n",
      "  Downloading eth_typing-2.3.0-py3-none-any.whl (6.2 kB)\r\n",
      "Collecting eth-utils<2.0.0,>=1.9.5\r\n",
      "  Downloading eth_utils-1.10.0-py3-none-any.whl (24 kB)\r\n",
      "Collecting ipfshttpclient==0.8.0a2\r\n",
      "  Downloading ipfshttpclient-0.8.0a2-py3-none-any.whl (82 kB)\r\n",
      "\u001b[K     |████████████████████████████████| 82 kB 598 kB/s \r\n",
      "\u001b[?25hCollecting lru-dict<2.0.0,>=1.1.6\r\n",
      "  Downloading lru_dict-1.1.8-cp37-cp37m-manylinux_2_5_x86_64.manylinux1_x86_64.manylinux_2_17_x86_64.manylinux2014_x86_64.whl (26 kB)\r\n",
      "Collecting websockets<10,>=9.1\r\n",
      "  Downloading websockets-9.1-cp37-cp37m-manylinux2010_x86_64.whl (103 kB)\r\n",
      "\u001b[K     |████████████████████████████████| 103 kB 67.8 MB/s \r\n",
      "\u001b[?25hCollecting eth-abi<3.0.0,>=2.0.0b6\r\n",
      "  Downloading eth_abi-2.2.0-py3-none-any.whl (28 kB)\r\n",
      "Collecting multiaddr>=0.0.7\r\n",
      "  Downloading multiaddr-0.0.9-py2.py3-none-any.whl (16 kB)\r\n",
      "Requirement already satisfied: yarl<2.0,>=1.0 in /opt/conda/lib/python3.7/site-packages (from aiohttp<4,>=3.7.4.post0->web3->nfts) (1.6.3)\r\n",
      "Requirement already satisfied: async-timeout<4.0,>=3.0 in /opt/conda/lib/python3.7/site-packages (from aiohttp<4,>=3.7.4.post0->web3->nfts) (3.0.1)\r\n",
      "Requirement already satisfied: attrs>=17.3.0 in /opt/conda/lib/python3.7/site-packages (from aiohttp<4,>=3.7.4.post0->web3->nfts) (21.2.0)\r\n",
      "Requirement already satisfied: multidict<7.0,>=4.5 in /opt/conda/lib/python3.7/site-packages (from aiohttp<4,>=3.7.4.post0->web3->nfts) (5.1.0)\r\n",
      "Collecting parsimonious<0.9.0,>=0.8.0\r\n",
      "  Downloading parsimonious-0.8.1.tar.gz (45 kB)\r\n",
      "\u001b[K     |████████████████████████████████| 45 kB 2.2 MB/s \r\n",
      "\u001b[?25hCollecting eth-keyfile<0.6.0,>=0.5.0\r\n",
      "  Downloading eth_keyfile-0.5.1-py3-none-any.whl (8.3 kB)\r\n",
      "Collecting eth-keys<0.4.0,>=0.3.4\r\n",
      "  Downloading eth_keys-0.3.4-py3-none-any.whl (21 kB)\r\n",
      "Collecting bitarray<3,>=1.2.1\r\n",
      "  Downloading bitarray-2.6.0-cp37-cp37m-manylinux_2_17_x86_64.manylinux2014_x86_64.whl (235 kB)\r\n",
      "\u001b[K     |████████████████████████████████| 235 kB 66.2 MB/s \r\n",
      "\u001b[?25hCollecting rlp<3,>=1.0.0\r\n",
      "  Downloading rlp-2.0.1-py2.py3-none-any.whl (20 kB)\r\n",
      "Collecting pycryptodome<4,>=3.6.6\r\n",
      "  Downloading pycryptodome-3.15.0-cp35-abi3-manylinux2010_x86_64.whl (2.3 MB)\r\n",
      "\u001b[K     |████████████████████████████████| 2.3 MB 43.9 MB/s \r\n",
      "\u001b[?25hRequirement already satisfied: cytoolz<1.0.0,>=0.9.0 in /opt/conda/lib/python3.7/site-packages (from eth-keyfile<0.6.0,>=0.5.0->eth-account<0.6.0,>=0.5.7->web3->nfts) (0.11.0)\r\n",
      "Requirement already satisfied: toolz>=0.8.0 in /opt/conda/lib/python3.7/site-packages (from cytoolz<1.0.0,>=0.9.0->eth-keyfile<0.6.0,>=0.5.0->eth-account<0.6.0,>=0.5.7->web3->nfts) (0.11.1)\r\n",
      "Collecting eth-utils<2.0.0,>=1.9.5\r\n",
      "  Downloading eth_utils-1.9.5-py3-none-any.whl (23 kB)\r\n",
      "Requirement already satisfied: setuptools in /opt/conda/lib/python3.7/site-packages (from jsonschema<5,>=3.2.0->web3->nfts) (57.4.0)\r\n",
      "Requirement already satisfied: pyrsistent>=0.14.0 in /opt/conda/lib/python3.7/site-packages (from jsonschema<5,>=3.2.0->web3->nfts) (0.17.3)\r\n",
      "Collecting netaddr\r\n",
      "  Downloading netaddr-0.8.0-py2.py3-none-any.whl (1.9 MB)\r\n",
      "\u001b[K     |████████████████████████████████| 1.9 MB 54.0 MB/s \r\n",
      "\u001b[?25hCollecting varint\r\n",
      "  Downloading varint-1.0.2.tar.gz (1.9 kB)\r\n",
      "Requirement already satisfied: base58 in /opt/conda/lib/python3.7/site-packages (from multiaddr>=0.0.7->ipfshttpclient==0.8.0a2->web3->nfts) (2.1.0)\r\n",
      "Building wheels for collected packages: parsimonious, varint\r\n",
      "  Building wheel for parsimonious (setup.py) ... \u001b[?25l-\b \b\\\b \bdone\r\n",
      "\u001b[?25h  Created wheel for parsimonious: filename=parsimonious-0.8.1-py3-none-any.whl size=42724 sha256=0d866b4c874844eb33a5655ea990ef7caabd8dc063b61e006a79a5d156c10284\r\n",
      "  Stored in directory: /root/.cache/pip/wheels/88/5d/ba/f27d8af07306b65ee44f9d3f9cadea1db749a421a6db8a99bf\r\n",
      "  Building wheel for varint (setup.py) ... \u001b[?25l-\b \b\\\b \bdone\r\n",
      "\u001b[?25h  Created wheel for varint: filename=varint-1.0.2-py3-none-any.whl size=1979 sha256=b96a14c80c3832875469ec215acaaf0f2a11aa6d94ec38f1c92faf11b895f264\r\n",
      "  Stored in directory: /root/.cache/pip/wheels/69/21/07/09f1c6a7d9b59377aa6d98da6efdd670f7ca40aabd93d02704\r\n",
      "Successfully built parsimonious varint\r\n",
      "Installing collected packages: eth-typing, eth-hash, eth-utils, varint, rlp, pycryptodome, parsimonious, netaddr, hexbytes, eth-keys, multiaddr, eth-rlp, eth-keyfile, eth-abi, bitarray, websockets, psycopg2-binary, lru-dict, ipfshttpclient, eth-account, web3, moonstreamdb, humbug, nfts\r\n",
      "Successfully installed bitarray-2.6.0 eth-abi-2.2.0 eth-account-0.5.9 eth-hash-0.5.0 eth-keyfile-0.5.1 eth-keys-0.3.4 eth-rlp-0.2.1 eth-typing-2.3.0 eth-utils-1.9.5 hexbytes-0.3.0 humbug-0.2.7 ipfshttpclient-0.8.0a2 lru-dict-1.1.8 moonstreamdb-0.3.2 multiaddr-0.0.9 netaddr-0.8.0 nfts-0.0.2 parsimonious-0.8.1 psycopg2-binary-2.9.3 pycryptodome-3.15.0 rlp-2.0.1 varint-1.0.2 web3-5.30.0 websockets-9.1\r\n",
      "\u001b[33mWARNING: Running pip as the 'root' user can result in broken permissions and conflicting behaviour with the system package manager. It is recommended to use a virtual environment instead: https://pip.pypa.io/warnings/venv\u001b[0m\r\n"
     ]
    }
   ],
   "source": [
    "!pip install nfts"
   ]
  },
  {
   "cell_type": "code",
   "execution_count": 2,
   "id": "e968f9ed",
   "metadata": {
    "execution": {
     "iopub.execute_input": "2022-09-19T16:18:23.846688Z",
     "iopub.status.busy": "2022-09-19T16:18:23.845975Z",
     "iopub.status.idle": "2022-09-19T16:18:24.288389Z",
     "shell.execute_reply": "2022-09-19T16:18:24.288963Z",
     "shell.execute_reply.started": "2022-09-19T16:10:40.982339Z"
    },
    "papermill": {
     "duration": 0.482303,
     "end_time": "2022-09-19T16:18:24.289155",
     "exception": false,
     "start_time": "2022-09-19T16:18:23.806852",
     "status": "completed"
    },
    "tags": []
   },
   "outputs": [],
   "source": [
    "import os\n",
    "import sqlite3\n",
    "\n",
    "import matplotlib.pyplot as plt\n",
    "import nfts.dataset\n",
    "import numpy as np\n",
    "import pandas as pd\n",
    "from scipy.optimize import curve_fit\n",
    "from scipy.special import zeta"
   ]
  },
  {
   "cell_type": "code",
   "execution_count": 3,
   "id": "cde21f0d",
   "metadata": {
    "execution": {
     "iopub.execute_input": "2022-09-19T16:18:24.359199Z",
     "iopub.status.busy": "2022-09-19T16:18:24.358142Z",
     "iopub.status.idle": "2022-09-19T16:18:24.392231Z",
     "shell.execute_reply": "2022-09-19T16:18:24.391491Z",
     "shell.execute_reply.started": "2022-09-19T16:09:29.022751Z"
    },
    "papermill": {
     "duration": 0.069939,
     "end_time": "2022-09-19T16:18:24.392412",
     "exception": false,
     "start_time": "2022-09-19T16:18:24.322473",
     "status": "completed"
    },
    "tags": []
   },
   "outputs": [],
   "source": [
    "os.listdir(\"/kaggle/input/ethereum-nfts\")\n",
    "DATASET_PATH = \"/kaggle/input/ethereum-nfts/nfts.sqlite\"\n",
    "ds = nfts.dataset.FromSQLite(DATASET_PATH)"
   ]
  },
  {
   "cell_type": "code",
   "execution_count": 4,
   "id": "3d209f6b",
   "metadata": {
    "execution": {
     "iopub.execute_input": "2022-09-19T16:18:24.464474Z",
     "iopub.status.busy": "2022-09-19T16:18:24.463697Z",
     "iopub.status.idle": "2022-09-19T16:18:40.086148Z",
     "shell.execute_reply": "2022-09-19T16:18:40.086744Z",
     "shell.execute_reply.started": "2022-09-19T16:09:32.296674Z"
    },
    "papermill": {
     "duration": 15.660192,
     "end_time": "2022-09-19T16:18:40.086950",
     "exception": false,
     "start_time": "2022-09-19T16:18:24.426758",
     "status": "completed"
    },
    "tags": []
   },
   "outputs": [
    {
     "data": {
      "text/html": [
       "<div>\n",
       "<style scoped>\n",
       "    .dataframe tbody tr th:only-of-type {\n",
       "        vertical-align: middle;\n",
       "    }\n",
       "\n",
       "    .dataframe tbody tr th {\n",
       "        vertical-align: top;\n",
       "    }\n",
       "\n",
       "    .dataframe thead th {\n",
       "        text-align: right;\n",
       "    }\n",
       "</style>\n",
       "<table border=\"1\" class=\"dataframe\">\n",
       "  <thead>\n",
       "    <tr style=\"text-align: right;\">\n",
       "      <th></th>\n",
       "      <th>nft_address</th>\n",
       "      <th>token_id</th>\n",
       "      <th>owner</th>\n",
       "    </tr>\n",
       "  </thead>\n",
       "  <tbody>\n",
       "    <tr>\n",
       "      <th>0</th>\n",
       "      <td>0x00000000000b7F8E8E8Ad148f9d53303Bfe20796</td>\n",
       "      <td>0</td>\n",
       "      <td>0xb776cAb26B9e6Be821842DC0cc0e8217489a4581</td>\n",
       "    </tr>\n",
       "    <tr>\n",
       "      <th>1</th>\n",
       "      <td>0x00000000000b7F8E8E8Ad148f9d53303Bfe20796</td>\n",
       "      <td>1</td>\n",
       "      <td>0x8A73024B39A4477a5Dc43fD6360e446851AD1D28</td>\n",
       "    </tr>\n",
       "    <tr>\n",
       "      <th>2</th>\n",
       "      <td>0x00000000000b7F8E8E8Ad148f9d53303Bfe20796</td>\n",
       "      <td>10</td>\n",
       "      <td>0x5e5C817E9264B46cBBB980198684Ad9d14f3e0B4</td>\n",
       "    </tr>\n",
       "    <tr>\n",
       "      <th>3</th>\n",
       "      <td>0x00000000000b7F8E8E8Ad148f9d53303Bfe20796</td>\n",
       "      <td>11</td>\n",
       "      <td>0x8376f63c13b99D3eedfA51ddd77Ff375279B3Ba0</td>\n",
       "    </tr>\n",
       "    <tr>\n",
       "      <th>4</th>\n",
       "      <td>0x00000000000b7F8E8E8Ad148f9d53303Bfe20796</td>\n",
       "      <td>12</td>\n",
       "      <td>0xb5e34552F32BA9226C987769BF6555a538510BA8</td>\n",
       "    </tr>\n",
       "  </tbody>\n",
       "</table>\n",
       "</div>"
      ],
      "text/plain": [
       "                                  nft_address token_id  \\\n",
       "0  0x00000000000b7F8E8E8Ad148f9d53303Bfe20796        0   \n",
       "1  0x00000000000b7F8E8E8Ad148f9d53303Bfe20796        1   \n",
       "2  0x00000000000b7F8E8E8Ad148f9d53303Bfe20796       10   \n",
       "3  0x00000000000b7F8E8E8Ad148f9d53303Bfe20796       11   \n",
       "4  0x00000000000b7F8E8E8Ad148f9d53303Bfe20796       12   \n",
       "\n",
       "                                        owner  \n",
       "0  0xb776cAb26B9e6Be821842DC0cc0e8217489a4581  \n",
       "1  0x8A73024B39A4477a5Dc43fD6360e446851AD1D28  \n",
       "2  0x5e5C817E9264B46cBBB980198684Ad9d14f3e0B4  \n",
       "3  0x8376f63c13b99D3eedfA51ddd77Ff375279B3Ba0  \n",
       "4  0xb5e34552F32BA9226C987769BF6555a538510BA8  "
      ]
     },
     "execution_count": 4,
     "metadata": {},
     "output_type": "execute_result"
    }
   ],
   "source": [
    "current_owners_df = ds.load_dataframe(\"current_owners\")\n",
    "current_owners_df.head()"
   ]
  },
  {
   "cell_type": "markdown",
   "id": "014826a2",
   "metadata": {
    "papermill": {
     "duration": 0.034565,
     "end_time": "2022-09-19T16:18:40.154837",
     "exception": false,
     "start_time": "2022-09-19T16:18:40.120272",
     "status": "completed"
    },
    "tags": []
   },
   "source": [
    "### The shapes of NFT collections\n",
    "\n",
    "NFTs are released in collections, with a single contract accounting for multiple tokens.\n",
    "\n",
    "Are there differences between ownership distributions of NFTs like the [Ethereum Name Service (ENS)](https://ens.domains/), which have utility beyond their artistic value, and those that do not currently have such use cases?\n",
    "\n",
    "One way we can answer this question is to see how much information each NFT collection gives us about individual owners of tokens in that collection. We will do this by treating each collection as a probability distribution over owners of tokens from that collection. If the collection $C$ consists of $n$ tokens and an address $A$ owns $m$ of those tokens, we will assign that address a probability of $p_A = m/n$ in the collection's associated probability distribution. Then we will calculate the entropy:\n",
    "\n",
    "$$H(C) = - \\sum_{A} p_A \\log(p_A).$$\n",
    "Here, the sum is over all addresses $A$ that own at least one token from $C$.\n",
    "\n",
    "$H(C)$ simultaneously contains information about:\n",
    "1. How many tokens were issued as part of the collection $C$.\n",
    "2. How evenly the tokens in $C$ are distributed over the addresses $A$ which own those tokens.\n"
   ]
  },
  {
   "cell_type": "code",
   "execution_count": 5,
   "id": "e5fbaebb",
   "metadata": {
    "execution": {
     "iopub.execute_input": "2022-09-19T16:18:40.975167Z",
     "iopub.status.busy": "2022-09-19T16:18:40.974445Z",
     "iopub.status.idle": "2022-09-19T16:18:47.397419Z",
     "shell.execute_reply": "2022-09-19T16:18:47.397976Z",
     "shell.execute_reply.started": "2022-09-19T16:09:54.869809Z"
    },
    "papermill": {
     "duration": 7.210243,
     "end_time": "2022-09-19T16:18:47.398161",
     "exception": false,
     "start_time": "2022-09-19T16:18:40.187918",
     "status": "completed"
    },
    "tags": []
   },
   "outputs": [
    {
     "data": {
      "text/html": [
       "<div>\n",
       "<style scoped>\n",
       "    .dataframe tbody tr th:only-of-type {\n",
       "        vertical-align: middle;\n",
       "    }\n",
       "\n",
       "    .dataframe tbody tr th {\n",
       "        vertical-align: top;\n",
       "    }\n",
       "\n",
       "    .dataframe thead th {\n",
       "        text-align: right;\n",
       "    }\n",
       "</style>\n",
       "<table border=\"1\" class=\"dataframe\">\n",
       "  <thead>\n",
       "    <tr style=\"text-align: right;\">\n",
       "      <th></th>\n",
       "      <th>nft_address</th>\n",
       "      <th>owner</th>\n",
       "      <th>num_tokens</th>\n",
       "    </tr>\n",
       "  </thead>\n",
       "  <tbody>\n",
       "    <tr>\n",
       "      <th>0</th>\n",
       "      <td>0x00000000000b7F8E8E8Ad148f9d53303Bfe20796</td>\n",
       "      <td>0x429a635eD4DaF9529C07d5406D466B349EC34361</td>\n",
       "      <td>3</td>\n",
       "    </tr>\n",
       "    <tr>\n",
       "      <th>1</th>\n",
       "      <td>0x00000000000b7F8E8E8Ad148f9d53303Bfe20796</td>\n",
       "      <td>0x5e5C817E9264B46cBBB980198684Ad9d14f3e0B4</td>\n",
       "      <td>5</td>\n",
       "    </tr>\n",
       "    <tr>\n",
       "      <th>2</th>\n",
       "      <td>0x00000000000b7F8E8E8Ad148f9d53303Bfe20796</td>\n",
       "      <td>0x8376f63c13b99D3eedfA51ddd77Ff375279B3Ba0</td>\n",
       "      <td>1</td>\n",
       "    </tr>\n",
       "    <tr>\n",
       "      <th>3</th>\n",
       "      <td>0x00000000000b7F8E8E8Ad148f9d53303Bfe20796</td>\n",
       "      <td>0x83D7Da9E572C5ad14caAe36771022C43AF084dbF</td>\n",
       "      <td>5</td>\n",
       "    </tr>\n",
       "    <tr>\n",
       "      <th>4</th>\n",
       "      <td>0x00000000000b7F8E8E8Ad148f9d53303Bfe20796</td>\n",
       "      <td>0x8A73024B39A4477a5Dc43fD6360e446851AD1D28</td>\n",
       "      <td>5</td>\n",
       "    </tr>\n",
       "  </tbody>\n",
       "</table>\n",
       "</div>"
      ],
      "text/plain": [
       "                                  nft_address  \\\n",
       "0  0x00000000000b7F8E8E8Ad148f9d53303Bfe20796   \n",
       "1  0x00000000000b7F8E8E8Ad148f9d53303Bfe20796   \n",
       "2  0x00000000000b7F8E8E8Ad148f9d53303Bfe20796   \n",
       "3  0x00000000000b7F8E8E8Ad148f9d53303Bfe20796   \n",
       "4  0x00000000000b7F8E8E8Ad148f9d53303Bfe20796   \n",
       "\n",
       "                                        owner  num_tokens  \n",
       "0  0x429a635eD4DaF9529C07d5406D466B349EC34361           3  \n",
       "1  0x5e5C817E9264B46cBBB980198684Ad9d14f3e0B4           5  \n",
       "2  0x8376f63c13b99D3eedfA51ddd77Ff375279B3Ba0           1  \n",
       "3  0x83D7Da9E572C5ad14caAe36771022C43AF084dbF           5  \n",
       "4  0x8A73024B39A4477a5Dc43fD6360e446851AD1D28           5  "
      ]
     },
     "execution_count": 5,
     "metadata": {},
     "output_type": "execute_result"
    }
   ],
   "source": [
    "contract_owners_df = current_owners_df.groupby([\"nft_address\", \"owner\"], as_index=False).size().rename(columns={\"size\": \"num_tokens\"})\n",
    "contract_owners_df.head()"
   ]
  },
  {
   "cell_type": "code",
   "execution_count": 6,
   "id": "f48d1639",
   "metadata": {
    "execution": {
     "iopub.execute_input": "2022-09-19T16:18:47.485266Z",
     "iopub.status.busy": "2022-09-19T16:18:47.484221Z",
     "iopub.status.idle": "2022-09-19T16:18:47.487335Z",
     "shell.execute_reply": "2022-09-19T16:18:47.486555Z",
     "shell.execute_reply.started": "2022-09-19T16:10:09.732857Z"
    },
    "papermill": {
     "duration": 0.0513,
     "end_time": "2022-09-19T16:18:47.487497",
     "exception": false,
     "start_time": "2022-09-19T16:18:47.436197",
     "status": "completed"
    },
    "tags": []
   },
   "outputs": [],
   "source": [
    "contract_owners_groups = contract_owners_df.groupby([\"nft_address\"])\n",
    "entropies = {}"
   ]
  },
  {
   "cell_type": "markdown",
   "id": "96cbb799",
   "metadata": {
    "papermill": {
     "duration": 0.033221,
     "end_time": "2022-09-19T16:18:47.562501",
     "exception": false,
     "start_time": "2022-09-19T16:18:47.529280",
     "status": "completed"
    },
    "tags": []
   },
   "source": [
    "## ZOMGLINGS way of calculating entropy"
   ]
  },
  {
   "cell_type": "code",
   "execution_count": 7,
   "id": "bc864c68",
   "metadata": {
    "execution": {
     "iopub.execute_input": "2022-09-19T16:18:47.676936Z",
     "iopub.status.busy": "2022-09-19T16:18:47.676185Z",
     "iopub.status.idle": "2022-09-19T16:21:58.830488Z",
     "shell.execute_reply": "2022-09-19T16:21:58.831053Z",
     "shell.execute_reply.started": "2022-09-19T16:11:05.414597Z"
    },
    "papermill": {
     "duration": 191.234557,
     "end_time": "2022-09-19T16:21:58.831252",
     "exception": false,
     "start_time": "2022-09-19T16:18:47.596695",
     "status": "completed"
    },
    "tags": []
   },
   "outputs": [
    {
     "name": "stdout",
     "output_type": "stream",
     "text": [
      "23.8 s ± 63.4 ms per loop (mean ± std. dev. of 7 runs, 1 loop each)\n"
     ]
    }
   ],
   "source": [
    "%%timeit\n",
    "for contract_address, owners_group in contract_owners_groups:\n",
    "    total_supply = owners_group[\"num_tokens\"].sum()\n",
    "    owners_group[\"p\"] = owners_group[\"num_tokens\"]/total_supply\n",
    "    owners_group[\"log(p)\"] = np.log2(owners_group[\"p\"])\n",
    "    owners_group[\"-plog(p)\"] = (-1) * owners_group[\"p\"] * owners_group[\"log(p)\"]\n",
    "    entropy = owners_group[\"-plog(p)\"].sum()\n",
    "    entropies[contract_address] = entropy"
   ]
  },
  {
   "cell_type": "markdown",
   "id": "a3d6e153",
   "metadata": {
    "papermill": {
     "duration": 0.033568,
     "end_time": "2022-09-19T16:21:58.898728",
     "exception": false,
     "start_time": "2022-09-19T16:21:58.865160",
     "status": "completed"
    },
    "tags": []
   },
   "source": [
    "## My way of calculating entropies"
   ]
  },
  {
   "cell_type": "code",
   "execution_count": 8,
   "id": "33d76785",
   "metadata": {
    "execution": {
     "iopub.execute_input": "2022-09-19T16:21:58.970308Z",
     "iopub.status.busy": "2022-09-19T16:21:58.969610Z",
     "iopub.status.idle": "2022-09-19T16:21:58.974425Z",
     "shell.execute_reply": "2022-09-19T16:21:58.974984Z",
     "shell.execute_reply.started": "2022-09-19T16:15:11.413491Z"
    },
    "papermill": {
     "duration": 0.042572,
     "end_time": "2022-09-19T16:21:58.975177",
     "exception": false,
     "start_time": "2022-09-19T16:21:58.932605",
     "status": "completed"
    },
    "tags": []
   },
   "outputs": [],
   "source": [
    "# function to calulate entropy of a group\n",
    "def group_ops(group):\n",
    "    total_supply = group[\"num_tokens\"].sum()\n",
    "    p = group[\"num_tokens\"]/total_supply\n",
    "    log_p = np.log2(p)\n",
    "    plog_p = -p*log_p\n",
    "    return plog_p.sum()"
   ]
  },
  {
   "cell_type": "code",
   "execution_count": 9,
   "id": "aaaff906",
   "metadata": {
    "execution": {
     "iopub.execute_input": "2022-09-19T16:21:59.047992Z",
     "iopub.status.busy": "2022-09-19T16:21:59.047208Z",
     "iopub.status.idle": "2022-09-19T16:22:46.609280Z",
     "shell.execute_reply": "2022-09-19T16:22:46.609852Z",
     "shell.execute_reply.started": "2022-09-19T16:15:28.283975Z"
    },
    "papermill": {
     "duration": 47.600387,
     "end_time": "2022-09-19T16:22:46.610047",
     "exception": false,
     "start_time": "2022-09-19T16:21:59.009660",
     "status": "completed"
    },
    "tags": []
   },
   "outputs": [
    {
     "name": "stdout",
     "output_type": "stream",
     "text": [
      "5.94 s ± 75.5 ms per loop (mean ± std. dev. of 7 runs, 1 loop each)\n"
     ]
    }
   ],
   "source": [
    "%%timeit\n",
    "entropies2 = contract_owners_groups.apply(group_ops)"
   ]
  },
  {
   "cell_type": "markdown",
   "id": "8c2b59a9",
   "metadata": {
    "papermill": {
     "duration": 0.034003,
     "end_time": "2022-09-19T16:22:46.678220",
     "exception": false,
     "start_time": "2022-09-19T16:22:46.644217",
     "status": "completed"
    },
    "tags": []
   },
   "source": [
    "For some reason running this does not assigns the entropies to the variable. I don't know why\n",
    "\n",
    "Now to find out if these two variables have the same values or not"
   ]
  },
  {
   "cell_type": "code",
   "execution_count": 10,
   "id": "c0e39e61",
   "metadata": {
    "execution": {
     "iopub.execute_input": "2022-09-19T16:22:46.754950Z",
     "iopub.status.busy": "2022-09-19T16:22:46.753902Z",
     "iopub.status.idle": "2022-09-19T16:22:52.790030Z",
     "shell.execute_reply": "2022-09-19T16:22:52.789465Z",
     "shell.execute_reply.started": "2022-09-19T16:16:23.406526Z"
    },
    "papermill": {
     "duration": 6.076134,
     "end_time": "2022-09-19T16:22:52.790196",
     "exception": false,
     "start_time": "2022-09-19T16:22:46.714062",
     "status": "completed"
    },
    "tags": []
   },
   "outputs": [],
   "source": [
    "entropies2 = contract_owners_groups.apply(group_ops)"
   ]
  },
  {
   "cell_type": "code",
   "execution_count": 11,
   "id": "ed6e539d",
   "metadata": {
    "execution": {
     "iopub.execute_input": "2022-09-19T16:22:52.874544Z",
     "iopub.status.busy": "2022-09-19T16:22:52.873813Z",
     "iopub.status.idle": "2022-09-19T16:22:52.877866Z",
     "shell.execute_reply": "2022-09-19T16:22:52.877331Z",
     "shell.execute_reply.started": "2022-09-19T16:16:34.519625Z"
    },
    "papermill": {
     "duration": 0.052401,
     "end_time": "2022-09-19T16:22:52.878029",
     "exception": false,
     "start_time": "2022-09-19T16:22:52.825628",
     "status": "completed"
    },
    "tags": []
   },
   "outputs": [
    {
     "data": {
      "text/plain": [
       "True"
      ]
     },
     "execution_count": 11,
     "metadata": {},
     "output_type": "execute_result"
    }
   ],
   "source": [
    "(entropies2 == pd.Series(entropies)).all()"
   ]
  },
  {
   "cell_type": "markdown",
   "id": "8a0a65d0",
   "metadata": {
    "papermill": {
     "duration": 0.035402,
     "end_time": "2022-09-19T16:22:52.949631",
     "exception": false,
     "start_time": "2022-09-19T16:22:52.914229",
     "status": "completed"
    },
    "tags": []
   },
   "source": [
    "Hence, they do have the same entropies. "
   ]
  }
 ],
 "metadata": {
  "kernelspec": {
   "display_name": "Python 3",
   "language": "python",
   "name": "python3"
  },
  "language_info": {
   "codemirror_mode": {
    "name": "ipython",
    "version": 3
   },
   "file_extension": ".py",
   "mimetype": "text/x-python",
   "name": "python",
   "nbconvert_exporter": "python",
   "pygments_lexer": "ipython3",
   "version": "3.10.4"
  },
  "papermill": {
   "default_parameters": {},
   "duration": 301.235162,
   "end_time": "2022-09-19T16:22:55.707324",
   "environment_variables": {},
   "exception": null,
   "input_path": "__notebook__.ipynb",
   "output_path": "__notebook__.ipynb",
   "parameters": {},
   "start_time": "2022-09-19T16:17:54.472162",
   "version": "2.3.3"
  }
 },
 "nbformat": 4,
 "nbformat_minor": 5
}
